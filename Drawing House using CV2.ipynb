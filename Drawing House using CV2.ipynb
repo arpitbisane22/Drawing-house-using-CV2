{
 "cells": [
  {
   "cell_type": "code",
   "execution_count": 194,
   "metadata": {},
   "outputs": [],
   "source": [
    "import cv2\n",
    "import numpy as np"
   ]
  },
  {
   "cell_type": "code",
   "execution_count": 195,
   "metadata": {},
   "outputs": [],
   "source": [
    "image = np.zeros((500,1200,3))"
   ]
  },
  {
   "cell_type": "code",
   "execution_count": 196,
   "metadata": {
    "scrolled": true
   },
   "outputs": [
    {
     "data": {
      "text/plain": [
       "-1"
      ]
     },
     "execution_count": 196,
     "metadata": {},
     "output_type": "execute_result"
    }
   ],
   "source": [
    "\n",
    "# Triangle\n",
    "p1 = (150, 200)\n",
    "p2 = (280, 80)\n",
    "p3 = (400, 200)\n",
    "cv2.line(image, p1, p2, (0, 255, 0), 5)\n",
    "cv2.line(image, p2, p3, (255, 0, 0), 5)\n",
    "#cv2.line(image, p1, p3, (0, 255, 0), 5)\n",
    "\n",
    "# Rectangle below the triangle\n",
    "cv2.rectangle(image, (150,200) , (400,400) , [255,2550,] , 5  )\n",
    "\n",
    "# rectangle beside above rectangle\n",
    "cv2.rectangle(image, (400,200) , (750,400) , [255,0,255] , 5 )\n",
    "\n",
    "cv2.line(image, p2 , (750, 80), (0,0,255), 5 )\n",
    "cv2.line(image, (750,80) , (750, 200), (0,0,255), 5 )\n",
    "\n",
    "# door\n",
    "cv2.rectangle(image, (230,300) , (310,300) , [0, 255, 0] , 2 )\n",
    "cv2.rectangle(image, (230,320) , (310,400) , [255, 0 , 0] , 2 )\n",
    "\n",
    "# Window\n",
    "cv2.rectangle(image, (516,266) , (632,330) , [0 , 0 , 255] , 2 )\n",
    "cv2.line(image, (574,266) , (574, 330), (0,255,0), 2 )\n",
    "cv2.line(image, (516,298) , (632, 298), (0,255,255), 2 )\n",
    "\n",
    "\n",
    "# sun\n",
    "cv2.circle(image, center=(50,50), radius=80, color=(0,255,255), thickness= -1)\n",
    "\n",
    "cv2.imshow(\"Image\" , image)\n",
    "cv2.waitKey()\n"
   ]
  },
  {
   "cell_type": "code",
   "execution_count": 190,
   "metadata": {},
   "outputs": [
    {
     "data": {
      "text/plain": [
       "-1"
      ]
     },
     "execution_count": 190,
     "metadata": {},
     "output_type": "execute_result"
    }
   ],
   "source": []
  },
  {
   "cell_type": "code",
   "execution_count": null,
   "metadata": {},
   "outputs": [],
   "source": []
  }
 ],
 "metadata": {
  "kernelspec": {
   "display_name": "Python 3",
   "language": "python",
   "name": "python3"
  },
  "language_info": {
   "codemirror_mode": {
    "name": "ipython",
    "version": 3
   },
   "file_extension": ".py",
   "mimetype": "text/x-python",
   "name": "python",
   "nbconvert_exporter": "python",
   "pygments_lexer": "ipython3",
   "version": "3.8.3"
  }
 },
 "nbformat": 4,
 "nbformat_minor": 4
}
